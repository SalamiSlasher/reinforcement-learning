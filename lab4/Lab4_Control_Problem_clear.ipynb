{
 "cells": [
  {
   "cell_type": "code",
   "metadata": {
    "id": "twBmPWIxDeal",
    "ExecuteTime": {
     "end_time": "2024-10-03T07:08:53.492353Z",
     "start_time": "2024-10-03T07:08:51.412818Z"
    }
   },
   "source": [
    "import numpy as np\n",
    "import matplotlib.pyplot as plt\n",
    "from PIL import Image\n",
    "import matplotlib.animation as animation\n",
    "from IPython.display import HTML\n",
    "from skimage import draw\n",
    "%matplotlib inline\n",
    "#comment"
   ],
   "outputs": [],
   "execution_count": 3
  },
  {
   "cell_type": "code",
   "metadata": {
    "id": "UYGJsE-zDear",
    "ExecuteTime": {
     "end_time": "2024-10-03T07:08:53.607046Z",
     "start_time": "2024-10-03T07:08:53.604348Z"
    }
   },
   "source": [
    "def plot_images(img_list):\n",
    "    def init():\n",
    "        img.set_data(img_list[0])\n",
    "        return (img,)\n",
    "\n",
    "    def animate(i):\n",
    "        img.set_data(img_list[i])\n",
    "        return (img,)\n",
    "\n",
    "    plt.figure(figsize = (15,15))\n",
    "    fig = plt.figure()\n",
    "    ax = fig.gca()\n",
    "    img = ax.imshow(img_list[0])\n",
    "    anim = animation.FuncAnimation(fig, animate, init_func=init,\n",
    "                                 frames=len(img_list), interval=20, blit=True)\n",
    "    return anim\n"
   ],
   "outputs": [],
   "execution_count": 4
  },
  {
   "cell_type": "code",
   "metadata": {
    "id": "Gc_r3VOJDeat",
    "ExecuteTime": {
     "end_time": "2024-10-03T07:08:53.616563Z",
     "start_time": "2024-10-03T07:08:53.612043Z"
    }
   },
   "source": [
    "class World():\n",
    "    def __init__(self,rocket,target,width=768,height=640,stop_limit=100):\n",
    "        self.rocket = rocket\n",
    "        self.target = target\n",
    "        self.width = width\n",
    "        self.height = height\n",
    "        self.time = 0\n",
    "        self.stop_limit = stop_limit\n",
    "        self.worlds = [np.ones((width,height),dtype=np.uint8)]\n",
    "        self.distance = []\n",
    "\n",
    "\n",
    "    def gen_img(self,world):\n",
    "        buff = np.array((world,world,world))*255\n",
    "        return buff.reshape(self.width,self.height,3)\n",
    "\n",
    "    def run(self):\n",
    "        print(\"Run the world\")\n",
    "\n",
    "        while True:\n",
    "            self.time = self.time + 1\n",
    "            xt,yt = self.target.move(self.time)\n",
    "            xr,yr = self.rocket.move(self.time,self.target)\n",
    "            self.distance.append(np.linalg.norm(np.array([xt,yt])-np.array([xr,yr])))\n",
    "            rt, ct = draw.disk((int(xt), int(yt)), radius=10) #, shape=self.worlds[-1].shape)\n",
    "            self.worlds[-1][rt,ct]=0\n",
    "            rr, cr = draw.disk((int(xr), int(yr)), radius=10) #, shape=self.worlds[-1].shape)\n",
    "            self.worlds[-1][rr,cr]=0\n",
    "            self.worlds.append(np.ones((self.width,self.height),dtype=np.uint8))\n",
    "            if self.time>self.stop_limit:\n",
    "                print(len(self.worlds))\n",
    "                print(\"Stop the world\")\n",
    "                break\n",
    "            if self.distance[-1]<10:\n",
    "                print(\"Grac!\")\n",
    "                break\n",
    "        return self.worlds\n"
   ],
   "outputs": [],
   "execution_count": 5
  },
  {
   "cell_type": "code",
   "metadata": {
    "ExecuteTime": {
     "end_time": "2024-10-03T07:08:53.658561Z",
     "start_time": "2024-10-03T07:08:53.654024Z"
    }
   },
   "source": [
    "class Target():\n",
    "    def __init__(self,r1,f1,r2,f2,x0,y0):\n",
    "        self.x0 = x0\n",
    "        self.y0 = y0\n",
    "        self.r1 = r1\n",
    "        self.f1 = f1\n",
    "        self.r2 = r2\n",
    "        self.f2 = f2\n",
    "        self.move(0)\n",
    "\n",
    "    def move(self,time):\n",
    "        self.x = self.x0 + self.r1 * np.cos(time*2*np.pi*self.f1) + self.r2 * np.cos(time*2*np.pi*self.f2)\n",
    "        self.y = self.y0 + self.r1 * np.sin(time*2*np.pi*self.f1) + self.r2 * np.sin(time*2*np.pi*self.f2)\n",
    "        return (self.x,self.y)\n",
    "\n",
    "class RectRocket():\n",
    "    def __init__(self,x0,y0,v,angle):\n",
    "        self.x = x0\n",
    "        self.y = y0\n",
    "        self.v = v\n",
    "        self.angle = angle\n",
    "        \n",
    "        self.memory = []\n",
    "        self.memory_cnt = 20\n",
    "\n",
    "    def move(self, time: int, target: Target):\n",
    "        # Put your code here\n",
    "        # Calculate your angle and apply it to new (x,y) coords\n",
    "        # Steps:\n",
    "        # 1. Calculate alpha angle\n",
    "        # 2. Calcualte new_coordinates\n",
    "\n",
    "        self.memory.append((target.x, target.y))\n",
    "        \n",
    "        if self.memory_cnt > 0:\n",
    "            self.memory_cnt -= 1\n",
    "            self.x -= self.v\n",
    "            #print(self.y)\n",
    "            return (self.x, self.y)\n",
    "            \n",
    "        dx = self.memory[9][0] - self.memory[0][0]\n",
    "        dy = self.memory[9][1] - self.memory[0][1]\n",
    "\n",
    "        arctan = -np.arctan(dy / dx)\n",
    "\n",
    "        #arctan = np.pi \n",
    "        \n",
    "        self.x = (self.x - self.v * np.cos(arctan - (2/3) * np.pi))\n",
    "        self.y = (self.y - self.v * np.sin(arctan))\n",
    "        \n",
    "        return (self.x, self.y)"
   ],
   "outputs": [],
   "execution_count": 6
  },
  {
   "cell_type": "code",
   "metadata": {
    "id": "19PtinByDeaw",
    "ExecuteTime": {
     "end_time": "2024-10-03T07:08:53.665261Z",
     "start_time": "2024-10-03T07:08:53.663053Z"
    }
   },
   "source": [
    "# Я пытался сделать \"умный\" алгоритм, но не вышло...\n",
    "# class Target():\n",
    "#     def __init__(self,r1,f1,r2,f2,x0,y0):\n",
    "#         self.x0 = x0\n",
    "#         self.y0 = y0\n",
    "#         self.r1 = r1\n",
    "#         self.f1 = f1\n",
    "#         self.r2 = r2\n",
    "#         self.f2 = f2\n",
    "#         self.move(0)\n",
    "# \n",
    "#     def move(self,time):\n",
    "#         self.x = self.x0 + self.r1 * np.cos(time*2*np.pi*self.f1) + self.r2 * np.cos(time*2*np.pi*self.f2)\n",
    "#         self.y = self.y0 + self.r1 * np.sin(time*2*np.pi*self.f1) + self.r2 * np.sin(time*2*np.pi*self.f2)\n",
    "#         return (self.x,self.y)\n",
    "# \n",
    "# class RectRocket():\n",
    "#     def __init__(self,x0,y0,v,angle):\n",
    "#         self.x = x0\n",
    "#         self.y = y0\n",
    "#         self.v = v\n",
    "#         self.angle = angle\n",
    "#         \n",
    "#         self.memory = []\n",
    "#         self.coord_diff = []\n",
    "#         self.memory_cnt_const = 5\n",
    "#         self.memory_cnt = self.memory_cnt_const\n",
    "# \n",
    "#         self.memory_time = 0\n",
    "#         \n",
    "#         self.flag = True\n",
    "# \n",
    "#     def move(self, time: int, target: Target):\n",
    "#         self.memory.append((target.x, target.y))\n",
    "# \n",
    "#         if len(self.memory) > 1:\n",
    "#             dx = rocket.memory[-1][0] - rocket.memory[-2][0]\n",
    "#             dy = rocket.memory[-1][1] - rocket.memory[-2][1]\n",
    "#     \n",
    "#             self.coord_diff.append((dx > 0, dy > 0))\n",
    "# \n",
    "#             if len(self.coord_diff) > 1 and self.coord_diff[-1] != self.coord_diff[-2]:\n",
    "#                 print('Смена четверти!', time)\n",
    "#                 self.memory_cnt = self.memory_cnt_const\n",
    "#         \n",
    "#         if self.memory_cnt > 0:\n",
    "#             self.memory_cnt -= 1\n",
    "#             self.memory_time = time\n",
    "#             print(f'xxx {time}')\n",
    "# \n",
    "#             self.angle = np.arctan2(self.x - target.x, self.y - target.y)\n",
    "#             self.x = (self.x - self.v * np.cos(self.angle)) % 630\n",
    "#             self.y = (self.y - self.v * np.sin(self.angle)) % 630\n",
    "#             return (self.x, self.y)\n",
    "#         \n",
    "#         dx = rocket.memory[self.memory_time][0] - rocket.memory[self.memory_time - self.memory_cnt_const - 1][0]\n",
    "#         dy = rocket.memory[self.memory_time][1] - rocket.memory[self.memory_time - self.memory_cnt_const - 1][1]\n",
    "# \n",
    "#         self.angle = np.arctan2(dy, dx) + np.pi * self.coord_diff[-1][0]\n",
    "#         self.x = (self.x - self.v * np.cos(self.angle)) % 630\n",
    "#         self.y = (self.y - self.v * np.sin(self.angle)) % 630\n",
    "# \n",
    "#         return (self.x, self.y)"
   ],
   "outputs": [],
   "execution_count": 7
  },
  {
   "cell_type": "code",
   "metadata": {
    "colab": {
     "base_uri": "https://localhost:8080/",
     "height": 989
    },
    "id": "N6Fd5dmhDeay",
    "outputId": "24ac2174-30d9-4597-bc70-c89a804ffdce",
    "ExecuteTime": {
     "end_time": "2024-10-03T07:08:58.024653Z",
     "start_time": "2024-10-03T07:08:53.672973Z"
    }
   },
   "source": [
    "rocket = RectRocket(600,320,5, 0)\n",
    "target = Target(250,0.01,5,0.01,400,320)\n",
    "world = World(rocket,target)\n",
    "\n",
    "\n",
    "HTML(plot_images(world.run()).to_html5_video())\n",
    "#animation = plot_images(world.run())\n",
    "#anim.save('animation.mp4', writer='ffmpeg')\n",
    "#animation.save('animation.mp4', writer='ffmpeg')\n"
   ],
   "outputs": [
    {
     "name": "stdout",
     "output_type": "stream",
     "text": [
      "Run the world\n",
      "Grac!\n"
     ]
    },
    {
     "data": {
      "text/plain": [
       "<IPython.core.display.HTML object>"
      ],
      "text/html": [
       "<video width=\"640\" height=\"480\" controls autoplay loop>\n",
       "  <source type=\"video/mp4\" src=\"data:video/mp4;base64,AAAAIGZ0eXBNNFYgAAACAE00ViBpc29taXNvMmF2YzEAAAAIZnJlZQAAJMdtZGF0AAACrwYF//+r\n",
       "3EXpvebZSLeWLNgg2SPu73gyNjQgLSBjb3JlIDE2NCByMzA5NSBiYWVlNDAwIC0gSC4yNjQvTVBF\n",
       "Ry00IEFWQyBjb2RlYyAtIENvcHlsZWZ0IDIwMDMtMjAyMiAtIGh0dHA6Ly93d3cudmlkZW9sYW4u\n",
       "b3JnL3gyNjQuaHRtbCAtIG9wdGlvbnM6IGNhYmFjPTEgcmVmPTMgZGVibG9jaz0xOjA6MCBhbmFs\n",
       "eXNlPTB4MzoweDExMyBtZT1oZXggc3VibWU9NyBwc3k9MSBwc3lfcmQ9MS4wMDowLjAwIG1peGVk\n",
       "X3JlZj0xIG1lX3JhbmdlPTE2IGNocm9tYV9tZT0xIHRyZWxsaXM9MSA4eDhkY3Q9MSBjcW09MCBk\n",
       "ZWFkem9uZT0yMSwxMSBmYXN0X3Bza2lwPTEgY2hyb21hX3FwX29mZnNldD0tMiB0aHJlYWRzPTE1\n",
       "IGxvb2thaGVhZF90aHJlYWRzPTIgc2xpY2VkX3RocmVhZHM9MCBucj0wIGRlY2ltYXRlPTEgaW50\n",
       "ZXJsYWNlZD0wIGJsdXJheV9jb21wYXQ9MCBjb25zdHJhaW5lZF9pbnRyYT0wIGJmcmFtZXM9MyBi\n",
       "X3B5cmFtaWQ9MiBiX2FkYXB0PTEgYl9iaWFzPTAgZGlyZWN0PTEgd2VpZ2h0Yj0xIG9wZW5fZ29w\n",
       "PTAgd2VpZ2h0cD0yIGtleWludD0yNTAga2V5aW50X21pbj0yNSBzY2VuZWN1dD00MCBpbnRyYV9y\n",
       "ZWZyZXNoPTAgcmNfbG9va2FoZWFkPTQwIHJjPWNyZiBtYnRyZWU9MSBjcmY9MjMuMCBxY29tcD0w\n",
       "LjYwIHFwbWluPTAgcXBtYXg9NjkgcXBzdGVwPTQgaXBfcmF0aW89MS40MCBhcT0xOjEuMDAAgAAA\n",
       "DU5liIQAK//+9nN8CmtHM5UuBXb3ZqPl0JLl+xBg+tAAAAMAAAMAABAP0t71zGJb5SAAAAnYAkcR\n",
       "OD94QZgKLsKaGcKNaxO7M4Z+k+pVGyq4hTOoLRebRihBwpas2SW5PQF18LTcQI+wj0u7MEZ+ea3h\n",
       "AyfkOdsMydo38EG59+9Y8t22XqlCSN5g2K/nKYafmg7rtnOFbiyj6y0960eaVHesvitkbAOe1ngO\n",
       "GJVCuwhb222NCFujUo2U4By+oqko4lkRvY92MCJipc+GEONgO3rDp1wn8ll3VYqOfUHaXDqBn7qI\n",
       "VeAJxYeC3/A85m4Re05+3wACAAxdsAIikgs+3NvREwaTN0jP9/Oy3kX6qmhj+CRKWb/+sEt9cFxV\n",
       "1Q4/bECwu1lR+wvtDE+k/0zwy3hnnZq76Hoj6lWHMB7sK7HZ2hSMTsx8HY62mCcMWnnrCyf4elbB\n",
       "rCQvQwsncJHp+c91DyyvR9fvdEN+h0WNZo+ab168owmlZkmP+0du/yX+suY+3EqK527ku7MPB18g\n",
       "leakqKjxB2n9gBtxkJQrc5g6oNVkaa/CalV9um2b21kUXymoNEHEnZG8Z42iAcdIy0MLIFLL38Em\n",
       "OdgPjQRJhRNmdzOqHi00DEDTZo4YbZHRfIRgzkTflaekQGU1nixmDipSOpA+W8wQmUp6rVvd4ni2\n",
       "DEunON5Mg6GKVeTQUU1HJVxlj3xn+HGwkIZ0zxCJUjAGmYZdhEweeuxbVJlRJwnwFd1Esp6ej2nm\n",
       "tTmzjhKGRAEwnoE2wntjLqqMtfOrVO6CKJNQDCqsr8WGfXEx4IsgGYiDqLm6I0C2R7Sowc67UImU\n",
       "Nj26zQ5yF1+zi8tZxaI20sOnWFwbLEQsmt1zjIASvuEBOu32Z3d5T1X8y1iJzuqHOKYCb9hYKbkv\n",
       "wAoJ7BWWT2Q+29z0thkk8dhsUPM16gi8vV1y15Bun7Jj+Uucst+deXeR/kagTScJEsR5rEZPmP6B\n",
       "cmlZSSWVV+tiDPIyWcCTTOlxJd+x72rH+kQ9l5rTgyDfsZAGE1HJ7tuY3AxWk9d8z7wJvOK1gbZu\n",
       "ZgsBQpAwQ6g4i75RQzz57JIRTy3oNeI1cpmyS7S1wiE21BiXwZVeR3D+BBjEx2DpXCOVx0M34lS7\n",
       "GG8/Vveq5g7IFuUkWOv6IhX6HruVoboOt7pjVwA2oKMbZdWZI2+jIlPYGH7vjLAABs8uf8Y+H+A0\n",
       "Pkqb1LFF01Z5XVEpfeFgFad2HgSDMYk/DBI1kxd9JtaLytiko3xyg50oijzFrGtDC5YxjHwP7Z74\n",
       "qRJ2ZxBGj5flN2qQKvKXE7hD5S9iPu/NOns9fWCRL+NuzBicmL9NQQo8xAAkSewI3hmZz/4y7NdM\n",
       "PLglAtaQvroGezK9T1pllMDNMIkMGgNWYkgJ3bQF5BM8QNGfSPTZoLpaybiw36j73Dxl8PCNdV0m\n",
       "EWe4qP6YZCi1IdxcvWexL9JusXcRPiQicrJ+uuBxnX7xL5rvBhD9NX0GMAAtJ7QAmgkWgthkq5Ih\n",
       "B03N1LFakkcz84hnRhGDuqvv2umtMMk6tyEOPUHlrz8E2v7cARWFC1rWn2yli4tbMlq/rMfCGWz8\n",
       "hMAn2lZJQ5BCrqHRD2Uih7vMmiNrJtG5ctUo4IOnzXNUER3Dod89wzjzR6vUouExcru/8Uukk2JL\n",
       "Fs3MKAVVCFi0NsEs+bKseBSslnsFNdk600euf2fBwuetcJ3Z/bdZO5rVnLJz9tr7zwjlaCkRFiRr\n",
       "i4Hfe0xoo42QqGsXt2geUUO0ynf2Lpzw+BON3Z+/Z7x27ANlTxdSoUwfTJKZiL/AACN0yz5Kh/wH\n",
       "l84iyVHS23tgvhkgq7OjvzxnDMWR/E6xK/eOEogf4fhO6uD6TsB9GuwJJKu7jnEJ0/Vgpd3ArqfS\n",
       "jOiVlu+8rm92nR1BABjtt/FiiyZDqxPGsRdIIrqlKBHMe6Zw1v2/cN46qTrSD5sCNukgsuQ/C++2\n",
       "eiWK1GWSWLvvYRu6MVt0Zf5VjC+FLlaG2sTP0Zog05Ykif+HwVpjIBmIg6jfHjmhYAfPyx9V9SPp\n",
       "e4sMGxDzUSBew/Pt5lSefg8tn2FuqU7k+xb0FFnec27Ve/L9YQIQsUfhr1iurhpXcphXDPBMzEoI\n",
       "Q26pp66PdhkTEqWw/n9kDskTrayBAzglHTROBkIPCwFx0p/H06TShxC0zRWUu0NSQJKIfeLOsSZx\n",
       "7WUgGLID4Vl2wtUBqkN02XA8KLIDopMAETIp8FjsNRH7zaA9DtQYdYxfFxLTbsZeibL1A0iqi5nc\n",
       "LX6b9r2sU+MXeAhtA7o+Gr40+1mt36lodi+uIADZpxwl7X6O2moA+dOrKalUMguWKfKDFlT6VusN\n",
       "PCJD8w3G0kgyQIL9yLyk4z46xkSCZzn6WtdCDixUCgjUCI2BCxu42SFUQQ9Q/phtGIELJ67GgAPS\n",
       "A7cAW9EQyb8MxvqhXdh3PmyA+wFvotCAJlSU5atfVbTs7+fP+rhTywI+fGzDTAhMip/BNb12Hk+g\n",
       "LOoyb+WNZv9GVb0a8xvBYxkcrtaUqIkCS6NBxPSpVx3a1VLLjRZtWfeIqra7hiNIxM1sbvOpjqyw\n",
       "JjRDp8Hrcu8EAwI3nzol/LlJgehFsNWpmdR6LWrVjTi/DHvOzaKpQxpPi7BicluxS83Cnf1gbrWn\n",
       "SWQNDgsDS6jenEMiU2vSFGGjT0rjU1NEpG7X71zWvvgAAAMC0extNca5s8OwDbQtBJL8bUBfHZ3u\n",
       "cPjdBJc+Te7qiuoaKtpJ+VQJLb41kZfu0fbTZZF354KY3jHnrdG5lHyD7v0VAx+RnQwalaR0FZ8m\n",
       "y00yyWf3aLhhliutLn70wh2LvWRiKWJNG3tzdfFsh2Q7O9Wr3AdYnudfFFo1lkqHaNFyjhWGhrJZ\n",
       "rJlTV8uQbHsvetXF0DL74Qbia3QP5LiIEtC424yigI2SDxD7VRALR8rigAVRivwf3A2iyHwNAx52\n",
       "4cPKfWPNRo/+yPP7cqFKDIOxBNqk8m/Aka9CnfWSyYCilLV9OXKiaY4IO9/T0niBWi25e5t81P02\n",
       "otVbxuTy86+5J7elMtB6f1esIG1FpwQyuFP4V7mgT/xpSXr30R3zjid1INM14ebB1//RuWa7A4hJ\n",
       "GJWN8xdFKsX/YtE/AQUli+mjEBTiVsf5lx+O/k/hSWPf1jcUJG1J0Q/1N6QsgWwnjWbmGDMByaMa\n",
       "pMXLMzJ59547E0VqCnSuaRn20PPNIhH+Y9EPzQ1fAmeLxfV2+A+ToIbvfsFKznFobEP3FNmy469y\n",
       "ypNZ9thP/fnd5BaziHBlWluSaR+3SC0wwr7gcPFUKctfz1TKCF2a6KnqfuNJfiFVP5rCawMGseC5\n",
       "OZmZHTx2DYs/jZP6dSz5+gWsFbCHO4W/FJbbn3H5ZKIMTK9Lrw5LXPGGvEMneWikQ2hZiG3kSaZ0\n",
       "75lWtFSIM138FuTHXMMojCDEWcWTBKA5jeNA0bHjQFeUEDGQ0ntqmqV4BCKiQAP3ar704KVb2SLC\n",
       "fK4Q/cU1B9hx3LKk1nt6Xp60NOce74mD+RaSzPFAujdw+/o7KknmlM45WUHe6oXMTtAmdSMCvxsG\n",
       "RiiR+RltA1T8bAtsgv1kR8trUBJ6CHA237XzamqVb33/JuytZXYR4+iiDnqXBZ1n6f1FU5Vk/5xB\n",
       "rKj8PXYk0adU+B+dz+ANzEGfBwxoI9x4a5bYQYx4qD6nFEMzTDMJ2gPusZSH8+tktOSsDANQvAwm\n",
       "w1bAOmhC/O6VUdfhPWzFUGHz2DT5DNsda8B5+ZwMLErd188blK9wudEuYUNWjQg0Bb8cLhhbu10N\n",
       "sEnXiXV3yc43QStxi4MINow5lXH1fcWLIfgKWvhIZkk/Lz37S7dH0wgc+TNIrpCzIHGyXDUDESAH\n",
       "nRHemTY6gCE0qqRmdehIQD9O89gtSooP1+34DDYYpUCFUgvOtPh4MIkMUhl+tYNwTZQjOY6bXF5Y\n",
       "MFuBdhJyTq2M0DcTkQH4aLkKJp64RDVO0+7+VvFIEWtqTJatQMBcUPWZx9QFiXodHDGdJu8ph0bi\n",
       "0o8/+Yqq5fnVx0rzGdEonvrTtZuoThDtD5T68GjvlLXnpvKV1QU+fbQXwHMu/v9KVTrU72BKUxfs\n",
       "x6ORu0zcZyo9WDabykkS53OBcPQrK6LjK1i/hxqDNi96WSFxr6pnrq2PhHITTvHT1jq0Ze/cVOh2\n",
       "8sWfAqngYuJtwne2vxyHdVyXjkJdROqYm/RigsZ7X/09KhuqeTbDIih4t2Q8ZZXeEiGkj/+/xcXN\n",
       "evH/40c3lJua8k5T24LwUu579PKxkvp8hATMKZSs4rU52OoatDFuJlULhTk6IuJM0tft49+BQk1M\n",
       "MTc2qmYRz0XWBRA6Wo84098MRYTwr3y/Zo3ET1IE5QwCto8yQAb9mhTC2KJnRNm4bfh9f8sGxlF5\n",
       "wFlmK8Mra6SEZfZ8zOKdgnp9R85hbI7V+ujBVwhE9IcMZtmCveuk8MJLBypwY6Nc7MutwKZNg2fy\n",
       "+Z8aZjyyCbxuFAnIqkY+zOUbMBqX4SgPagJ/3AmwgCNCxVlGDIGdsQRoAEJBAAAAakGaIWxCv/44\n",
       "QAJql7EBKL4po/UQOQUAAERMg8g60Y9J4FZ3x2RDZB8ddS1mFwFA3sFvdGSV2C2NXKDaq9z04GPC\n",
       "bRQOi99CbzAgtUw/4HW3o15vYKGlv8YxmZMpbu0ZkFLzYbKXnPk+iEAAAABHQZpCPCGTKYQr//44\n",
       "QAAAAwABYXNCNjAHJdGioPKG53txv5VQ6SWGlBmU/Amvo6dDqTECo8PAurpVad3JbJg+n9KogT4l\n",
       "fhcAAAA4QZpjSeEPJlMCFf/+OEAAAAMAAWJ3QkKt6QArtvNrzLWgFnv0g50EM4yKnikjOGHNNwdq\n",
       "8vlb9BAAAAA1QZqESeEPJlMCFf/+OEAAAAMAAWNYeg9vAyi+dZFgN9PACp4IMX38iz6Jw6KmQuG0\n",
       "KLn1T0EAAAA+QZqlSeEPJlMCFf/+OEAAAAMAAWz2sAjINmAEnCpJCCM8zBGOFsVvQKevTjjdeXFa\n",
       "DP9O6TPBuWrMve92MIEAAABIQZrGSeEPJlMCFf/+OEAAAAMAAWFGzM5rb+ejvcTf3hN2+Rw6uWVq\n",
       "WBDKfo1cmxHuJEPTB69eDqB/UkuW8ZxzefR6er3JdHdBAAAAPkGa50nhDyZTAhX//jhAAAADAAFh\n",
       "+lB7k4GAbGuPVIN5rMP2y3KEuDXXRfMZoiThFcDnmOfoat/pu4Z71P6RAAAARUGbCEnhDyZTAhX/\n",
       "/jhAAAADAAPKQsB95U8Wz+QFdC0D4Ak2xtodGZQ5QBFLIej9gqiHUbvHk8YS3dKIPdO75thh0mvo\n",
       "gQAAAIZBmytJ4Q8mUwIT//3xAAADAAAJaOrCAzq9dyctcDFFJgCJCrSjNX30YAXqck2SG+NP0zOr\n",
       "87oQ4iDMyRir/gYLV1sYAZ2slkSUQ2umVqJDYLTT9VrY8a88K7SBIKk07GaO05OBP8trNRGoVPj4\n",
       "QMi0/CiadpW3kQ1K3MGWoPuO6HHzakQT8wAAADhBn0lFETwj/wAAAwAAUfb1PK0ZPnC9N5MMf5PW\n",
       "7ET7LACqytM1WphnCWlskfZlPRrM02B28Y5gNQAAACMBn2pqR/8AAAMAAH8/bbp+HrkURr2kbp8C\n",
       "07bwlbOaHaX/BAAAAFxBm2xJqEFomUwIT//98QAAAwAACWpT6fV0QAjv6KfA+qMXW3Y7vRv87tVy\n",
       "WmDew5FNsAVz5Rk6daNpaxSp2AuWlrHPpOxThkGsoIYVc27LpCKLj7jv6smBcVT6zwAAAC9Bm41J\n",
       "4QpSZTAhP/3xAAADAAAJaOCWeitpPqlL/zLZxBTZ4+ALPp5m4vs9GdHegQAAAEtBm65J4Q6JlMCE\n",
       "//3xAAADAAAaf+m6G67iJFM0n2WvSvEklg2ZpoTNgwx3EwwViF58YXR1uXhsyINCIUmhZ/vElJgs\n",
       "Y8yaNwDYKCEAAABEQZvPSeEPJlMCE//98QAAAwAAGmfXdMf03gCEzTaqMrBhehxekg6duLO57hSm\n",
       "NcvhhKOvpTDbom0if7bcKx+cgrnGwUEAAABLQZvwSeEPJlMCE//98QAAAwAAGmOpnMt9Kb4ApfrF\n",
       "L5f1Ch46yjVU/1J3WNxUrswgBLvlmUPc7gtxlHz9tw/J0Vi5JuGapuBIgeEXAAAAO0GaEUnhDyZT\n",
       "AhP//fEAAAMAABpaCQqYAEaj/I8KOsR6mFQJokV2vi4u3Ssq+W8lxcOiJKX7H9QLAOaAAAAAO0Ga\n",
       "MknhDyZTAhP//fEAAAMAABpXeLX8ALU/erCFVgd6tP1FEd2+77rOiQ+/bPGRPF3fnC+Q7/BgSAj5\n",
       "AAAAOkGaU0nhDyZTAhP//fEAAAMAADzAwMSmKI5gAIsmY+Xl+S2TZfRdS3LKCYakv/Bp9XAzABTa\n",
       "4Eb2ARsAAAA1QZp0SeEPJlMCE//98QAAAwAAPJd0LAYO/BwnP1nLWzu96HxiJDaMjvkuG4JDMVFj\n",
       "z++4BWwAAABTQZqVSeEPJlMCE//98QAAAwAArD7IwEsAGitTn24kzurDa6AsITT3DcMlJW7WQg69\n",
       "wur+lg1vpq0jHnsUAK12WDwSjszSQYLXwy8TeeT95/CQDukAAABTQZq2SeEPJlMCE//98QAAAwAA\n",
       "rEG/ZlLIVyTwAfceW8Jl5vxtRXZTPzi+veZOYdJ+dcbUxMW7g9F1TT2L/cz1B5FYxNmiECBELrYf\n",
       "+LI/1A0Al4AAAAA4QZrXSeEPJlMCE//98QAAAwAB2iUop1r1UFsb0p7leYd5sBnAlbvfYD+guGrR\n",
       "4qWUDw/8KE0AGhEAAABNQZr4SeEPJlMCE//98QAAAwAB286AVwhCrJrxwADtLSZ/5oqHlC+vKKCX\n",
       "/Ss5PBFW74GKPIhRK5m9QpFieh6D6lElM0lwLcyeM6wAuIEAAABBQZsZSeEPJlMCEf/94QAAAwAI\n",
       "KODZyZJ8j/LNIADVoyKBfgFWUhu+2fqbv29RCGOUwx8iSdGGMMmwUJz4SO2AScAAAABrQZs8SeEP\n",
       "JlMCFf/+OEAAAAX5q5z3KziADlzJpZmLyIjNa1YH4r6beT5IKzClDYW3sycxPZYmTFymIToSkdp3\n",
       "IABXGZNNK0pHgL3u9Lp+p+KOG+GIiUahqr+FgffBeh0M1mI95JVP89/ViKkAAAA1QZ9aRRE8I/8A\n",
       "AAMAfGHyKszPka1rAAIHA+ifkrL3XqKs8TlgzlL2pgK402NoZQuYx5rdu/gAAAApAZ97akf/AAAD\n",
       "AMlCdwvcv8wX+AB4xMcXHN/IS64n5X3rL2aWWAVd6OkAAABVQZt9SahBaJlMCFf//jhAAAAQT3Uf\n",
       "PkQByT3hrEwiwBI+K0WQCNxXjy1bdBrHdjMn6cuAZ+RiCAOsCaD0wjit/Oaa5Ce3IAXVLv6NFWIA\n",
       "bVbxKEwC7wAAADpBm55J4QpSZTAhX/44QAAAEGVPc8I6gAungtgODVAy3k4BtWAflDJbXUalycfm\n",
       "G0wzcLiFUf3jAAHdAAAAPkGbv0nhDomUwIV//jhAAAAudYfSdhaks3HAVtABT9pEgK6xu0nSDzDN\n",
       "rf1wnyHrJFxZnPXwFMKJQLPJAGzAAAAAUEGbwEnhDyZTAhX//jhAAAAvp0f3cdgBYTRbDhF08mmz\n",
       "Nhv1NvVHe7YTzAQS9TjxUDmaMywND+i352ww2rrAmeJ/auPR2VN2sWhqwmBkMAk5AAAAO0Gb4Unh\n",
       "DyZTAhX//jhAAAAvp2hZoHFWlNBxAYWM8YGhxMXvmvjAFPpboWFMLycskfUN37LcFossQCtgAAAA\n",
       "QEGaAknhDyZTAhX//jhAAACCm/KxZJagA9QAYZjt5zQBZYwXYqeZPu06nczP7WNNiq1xyG0qRO4k\n",
       "63AYGYAAb0EAAABaQZojSeEPJlMCFf/+OEAAAId0TVasf+3mACn1JCXz9IkD1dwdrc6rQpDfhiRv\n",
       "dlgna/p4MkjxlPnb16CeQC5wfNqXGMunaDodkquP1C6WXaRqi298MybWhfVAAAAAS0GaREnhDyZT\n",
       "AhX//jhAAAF9X2FyuPEGSyoU+trrAOLG4s88iAF+vmDMse/YY0ZszdxTY4neyTRxQJDB8gGYIslS\n",
       "+KLiQNNZk/QcGQAAAFdBmmVJ4Q8mUwIV//44QAABfTwbh7JgA/lZMzID/UkkQCJa0EDl05GDSDKL\n",
       "WU0EazLg/tslpXWn4GFZJk5S+PP9j5SpKgeZiZZj8DDP+N23I98qeETmIjEAAABgQZqGSeEPJlMC\n",
       "Ff/+OEAAAX08XEWm9oAL4tXmLGjjvXKRO0YDiJfPvKYQUr47JWGAZa2dZMrWKZM/jM+LGRmdACrz\n",
       "BHvqnsHijzSh1/5JXkJ1MdlxEeLUfB15WhhVABGxAAAAT0Gap0nhDyZTAhX//jhAAAQ0OKnqpIXt\n",
       "Src2UOnzoBlazrCuagEqaGYcNAga9ktGXl5SrZrGbolO0+Xofk/muBNi6viMCf3PJVNzVroAQ8EA\n",
       "AAAqQZrISeEPJlMCFf/+OEAABDPQRL6WZpb0fT79fa9LLGFCM6kMqkpv4AJOAAAAN0Ga6UnhDyZT\n",
       "AhX//jhAAARXI7Ty1ijwANFk42ImMufzjKbIRzF42F6VuklPKoyr+mEZI9IAHpAAAABdQZsKSeEP\n",
       "JlMCFf/+OEAABFPQ/2p4gA5r1X4zshMqxTgHyj4ry2u0aEjkE5nVm7KXdxdaNVdTK9I5IckZSPR0\n",
       "9+e8xalc6R78PSt+pZeJPWSDD4nbISnkP4Jf5O/ZAAAAXUGbK0nhDyZTAhX//jhAAAR7omryuEIc\n",
       "swAXI5iNpdNWGq97g40Jv5E5hQGaTO4aNLrWKpKMeN9nb+5d7bHjaD9Hh5CIQ/LciTnq9H9FIxZF\n",
       "8Yz5bZK5fAey/f3VTwAAAGhBm0xJ4Q8mUwIV//44QAAMiuuvINPBSm+sq7SrxQDdWvVVmbPHdOhd\n",
       "M4Lg6ywD0F5uIT7dvJb+iNUBcyqpyVjWSQp6xOBnd5tWtFk2LLBWcUWTpZpKnUe/+O2XayX/4bkC\n",
       "/hp7OPRnTAAAAE1Bm21J4Q8mUwIV//44QAAMiej2aBRACwuMhxahFgX49vGEEQp1ujvGypz+Jvi8\n",
       "PEI1psQSSCKOv70jnuqd7gPc/PINjAmF/8blWwAFfQAAADxBm45J4Q8mUwIV//44QAAM3YWgs+gk\n",
       "kwnNpwMAKthQioZU4oyiTbaDBbi0+FlOsZQgd+39Iqp06xgAAdMAAAAwQZuvSeEPJlMCFf/+OEAA\n",
       "DNnq//t/u8366KQ69K65zeBSd5kAJUJHs1v/Za0gAMaBAAAAXkGb0knhDyZTAhP//fEAACDcQcD4\n",
       "gcACVI8gnL6Y9Y+Et8Nb22BgKfmzw0Zq1w+9DR6EIxHuaJhboO86sqwqkNbJdu64mnngKZKt3KZS\n",
       "fJhVhaHnbgF/WNifG9KADLgAAAAvQZ/wRRE8I/8AAR3jyogopy4UKrrXS1RqFb5QAB1wTEkVFvGh\n",
       "28/4DThBhNZGOj4AAAAjAZ4Rakf/AAHFfndSs/vtCp2tHTW8f3IeoAAiG2yWfMIANqEAAAA8QZoT\n",
       "SahBaJlMCE///fEAACCoqQxHREdXvxaACW9ndFoBXehnoAqQXLOZJbuDdinWkDh/SqxzUpOlQAGD\n",
       "AAAAYUGaNEnhClJlMCEf/eEAADXvje7yFrSAGdNkiA2P3+O32KF5hHj5Jbvg8syNBCbZlq5f9aiq\n",
       "1T+HdaCV9+X83UH7LqAxIWghZ5dYDzkpQRfYjRIp5ZMwCnbbtUQ3QaRDzOAAAABCQZpVSeEOiZTA\n",
       "j//8hAAA0n/UhrmioUAb7rbUYOeKhnNtyEyD0ddiXZdCuv+PAlnnq2n2tOGxXq4Y/Qqu2AGXMRx3\n",
       "AAAARUGadknhDyZTAj///IQAANP/Q7y7yCNgoWkfAryBYpGTsABQ/hgnW1TdNl0v1VdI21smZK93\n",
       "JUGjUjeuzhtI4AK9h7TCcAAAAC5BmpdJ4Q8mUwI///yEAADT7/inKV/7MHhwPYcDhIVLk7vs0Ez5\n",
       "TfkKUzwUAAiZAAAAY0GauEnhDyZTAj///IQAAE9SxC45cAWKDc4SYSMGOHtqDhgo22/f7hgwJRJv\n",
       "sf8niiVatU659nYFOLbBULKzp8UElJ3KJK1mEq1OIQ0uw85VIkJvdqAuNLIHJZ/7LPCx5AA1IQAA\n",
       "ADpBmtlJ4Q8mUwI///yEAABPn5OzdrqLSvXNVnPoA2EZqKdqkDsqh/1rzlweRS3vkhJj8QBP5V2A\n",
       "ABQQAAAAPkGa+knhDyZTAj///IQAAE+qEwGwIuoAVQt9H/wiV27h2i1CXHGBmexVXE+1z1n9xK23\n",
       "RsmM590WKWXeQAGpAAAAUkGbG0nhDyZTAj///IQAAFG0dg0MCd2TP1TDtp5DZZjMV+f+fH/y5N3z\n",
       "70jGOmOMDWSG3NNrGc6decxlYiVsn6nOXJU49F3L1VL3tEp4Z5zR0SAAAABYQZs8SeEPJlMCP//8\n",
       "hAAAUjjmHjDCbbw7w1wAPo8Zv7+styTQFoyatsvcRQBzxjfwJ5PH3PJIyGE8aj7nBMiEWh4i+8eR\n",
       "7aQuFRLdJzrpGAEPXXElhVOseQAAAEVBm11J4Q8mUwI///yEAAAdm9DwCkktU7kvb+9sEKEZZT1A\n",
       "LuiPBwitzuiKqgzZb038WYEWlkh/iMxQsjhLfdUD2IQAEHEAAAA/QZt+SeEPJlMCP//8hAAAHaOc\n",
       "x0S2phsHjosyV1rjqsDiHLJFEBEh6ewq/HVE1JyyCXktdwDh5dVgbvYgABgwAAAAXkGbn0nhDyZT\n",
       "AhH//eEAAAeff9pP//bS5t1oANpbgYsV5gGDib8JiHLtZSlLC2N5rozW3HaiWjBAF39aW/5SqbD8\n",
       "JDeCY48rgkwt7dimdeUw09MkjmePX18St7aAAxYAAACSQZuiSeEPJlMCP//8hAAACtejijEVQTnx\n",
       "b9ACWo3njGXQoFhq3JLAxW0I7NeX7WGMldZAPClV4xF6J4zGGXKRSYsaxpWwycGy00wbj8nf++po\n",
       "5CNJo909wm6nxnve0c3+rScDnaHyEFDv2Gll6rvbDoccuAs+weEGNyL24HYJ4uZZ76wxlGAkTcri\n",
       "lq8HcGgADKkAAAA6QZ/ARRE8I/8AAA7WXmk/8CUaHSqgDA6yrVwxvgbMTyK0NQlHpMsq21xKpQKi\n",
       "pd5ty8NpJwYcThBEJAAAAB8Bn+FqR/8AABh/bKaFtXHxp30pYr30dQlzx0AgAGpBAAAAQUGb40mo\n",
       "QWiZTAhH//3hAAADArXJ8PCi4mLpTRqla3uAA5+nqL/sP528QLwpMUIsXhFMzYcmr8dCXAi9WkYi\n",
       "WzowAAAAH0GaB0nhClJlMCP//IQAAAMBaug+1ieXY3XZjjwAAVMAAACEQZ4lRTRMI/8AAAMB/Nr9\n",
       "LCm4dSAalItbf06wFRIv8gy+NuyAId0EyThCh95qFLjxwBTX0GvL9CEZCNu3jDx250msqDujqwj0\n",
       "8jTqro8Xd9vP1emmkPr8PoIFQmdyC2B7QrYTe9Dj2+aek14IihQdsOkN4BmadZiDNPrVceuR+KS8\n",
       "3BpRAAAAMAGeRHRH/wAAAwMvrkyAVh3h8j7RXRaSgAQh6YCgS+b9lrYcmdjH/poJWWdEpAAPGQAA\n",
       "ADABnkZqR/8AAAMDGnL5x0ggwovNoDBs/yFQAQpzRIyNc8SOdsiYiXa99a1BjMAAoIEAAATabW9v\n",
       "dgAAAGxtdmhkAAAAAAAAAAAAAAAAAAAD6AAABaAAAQAAAQAAAAAAAAAAAAAAAAEAAAAAAAAAAAAA\n",
       "AAAAAAABAAAAAAAAAAAAAAAAAABAAAAAAAAAAAAAAAAAAAAAAAAAAAAAAAAAAAAAAAAAAgAABAR0\n",
       "cmFrAAAAXHRraGQAAAADAAAAAAAAAAAAAAABAAAAAAAABaAAAAAAAAAAAAAAAAAAAAAAAAEAAAAA\n",
       "AAAAAAAAAAAAAAABAAAAAAAAAAAAAAAAAABAAAAAAoAAAAHgAAAAAAAkZWR0cwAAABxlbHN0AAAA\n",
       "AAAAAAEAAAWgAAACAAABAAAAAAN8bWRpYQAAACBtZGhkAAAAAAAAAAAAAAAAAAAyAAAASABVxAAA\n",
       "AAAALWhkbHIAAAAAAAAAAHZpZGUAAAAAAAAAAAAAAABWaWRlb0hhbmRsZXIAAAADJ21pbmYAAAAU\n",
       "dm1oZAAAAAEAAAAAAAAAAAAAACRkaW5mAAAAHGRyZWYAAAAAAAAAAQAAAAx1cmwgAAAAAQAAAudz\n",
       "dGJsAAAAt3N0c2QAAAAAAAAAAQAAAKdhdmMxAAAAAAAAAAEAAAAAAAAAAAAAAAAAAAAAAoAB4ABI\n",
       "AAAASAAAAAAAAAABAAAAAAAAAAAAAAAAAAAAAAAAAAAAAAAAAAAAAAAAAAAAGP//AAAANWF2Y0MB\n",
       "ZAAf/+EAGGdkAB+s2UCgPaEAAAMAAQAAAwBkDxgxlgEABmjr48siwP34+AAAAAAcdXVpZGtoQPJf\n",
       "JE/FujmlG88DI/MAAAAAAAAAGHN0dHMAAAAAAAAAAQAAAEgAAAEAAAAAFHN0c3MAAAAAAAAAAQAA\n",
       "AAEAAACYY3R0cwAAAAAAAAARAAAACQAAAgAAAAABAAAEAAAAAAIAAAEAAAAADgAAAgAAAAABAAAE\n",
       "AAAAAAIAAAEAAAAAEwAAAgAAAAABAAAEAAAAAAIAAAEAAAAADQAAAgAAAAABAAAEAAAAAAIAAAEA\n",
       "AAAAAQAAAgAAAAABAAAFAAAAAAEAAAIAAAAAAQAAAAAAAAABAAABAAAAABxzdHNjAAAAAAAAAAEA\n",
       "AAABAAAASAAAAAEAAAE0c3RzegAAAAAAAAAAAAAASAAAEAUAAABuAAAASwAAADwAAAA5AAAAQgAA\n",
       "AEwAAABCAAAASQAAAIoAAAA8AAAAJwAAAGAAAAAzAAAATwAAAEgAAABPAAAAPwAAAD8AAAA+AAAA\n",
       "OQAAAFcAAABXAAAAPAAAAFEAAABFAAAAbwAAADkAAAAtAAAAWQAAAD4AAABCAAAAVAAAAD8AAABE\n",
       "AAAAXgAAAE8AAABbAAAAZAAAAFMAAAAuAAAAOwAAAGEAAABhAAAAbAAAAFEAAABAAAAANAAAAGIA\n",
       "AAAzAAAAJwAAAEAAAABlAAAARgAAAEkAAAAyAAAAZwAAAD4AAABCAAAAVgAAAFwAAABJAAAAQwAA\n",
       "AGIAAACWAAAAPgAAACMAAABFAAAAIwAAAIgAAAA0AAAANAAAABRzdGNvAAAAAAAAAAEAAAAwAAAA\n",
       "YnVkdGEAAABabWV0YQAAAAAAAAAhaGRscgAAAAAAAAAAbWRpcmFwcGwAAAAAAAAAAAAAAAAtaWxz\n",
       "dAAAACWpdG9vAAAAHWRhdGEAAAABAAAAAExhdmY2MC4xNi4xMDA=\n",
       "\">\n",
       "  Your browser does not support the video tag.\n",
       "</video>"
      ]
     },
     "execution_count": 8,
     "metadata": {},
     "output_type": "execute_result"
    },
    {
     "data": {
      "text/plain": [
       "<Figure size 1500x1500 with 0 Axes>"
      ]
     },
     "metadata": {},
     "output_type": "display_data"
    },
    {
     "data": {
      "text/plain": [
       "<Figure size 640x480 with 1 Axes>"
      ],
      "image/png": "[encoded data removed]"
     },
     "metadata": {},
     "output_type": "display_data"
    }
   ],
   "execution_count": 8
  },
  {
   "cell_type": "code",
   "execution_count": null,
   "metadata": {},
   "outputs": [],
   "source": []
  },
  {
   "cell_type": "code",
   "execution_count": null,
   "metadata": {},
   "outputs": [],
   "source": []
  },
  {
   "cell_type": "code",
   "metadata": {
    "colab": {
     "base_uri": "https://localhost:8080/",
     "height": 447
    },
    "id": "oUw5vNPODea2",
    "outputId": "37c915bb-8f7e-4560-8e71-9449ebd91f76",
    "ExecuteTime": {
     "end_time": "2024-10-03T07:09:24.186688Z",
     "start_time": "2024-10-03T07:09:24.124879Z"
    }
   },
   "source": [
    "plt.plot(world.distance)"
   ],
   "outputs": [
    {
     "data": {
      "text/plain": [
       "[<matplotlib.lines.Line2D at 0x1232fe790>]"
      ]
     },
     "execution_count": 10,
     "metadata": {},
     "output_type": "execute_result"
    },
    {
     "data": {
      "text/plain": [
       "<Figure size 640x480 with 1 Axes>"
      ],
      "image/png": "[encoded data removed]"
     },
     "metadata": {},
     "output_type": "display_data"
    }
   ],
   "execution_count": 10
  },
  {
   "cell_type": "code",
   "execution_count": 39,
   "metadata": {
    "ExecuteTime": {
     "end_time": "2024-10-02T16:32:06.272043Z",
     "start_time": "2024-10-02T16:32:06.270142Z"
    },
    "id": "wJRfpF5hDea5"
   },
   "outputs": [
    {
     "data": {
      "text/plain": [
       "[0, 1, 2, 3, 4, 5, 6, 7, 8, 9]"
      ]
     },
     "execution_count": 39,
     "metadata": {},
     "output_type": "execute_result"
    }
   ],
   "source": [
    "list(range(10))"
   ]
  },
  {
   "cell_type": "code",
   "execution_count": 18,
   "metadata": {},
   "outputs": [
    {
     "data": {
      "text/plain": [
       "0"
      ]
     },
     "execution_count": 18,
     "metadata": {},
     "output_type": "execute_result"
    }
   ],
   "source": [
    "list(range(10))[-10]"
   ]
  },
  {
   "cell_type": "code",
   "execution_count": null,
   "metadata": {},
   "outputs": [],
   "source": []
  }
 ],
 "metadata": {
  "colab": {
   "provenance": []
  },
  "kernelspec": {
   "display_name": "Python 3 (ipykernel)",
   "language": "python",
   "name": "python3"
  },
  "language_info": {
   "codemirror_mode": {
    "name": "ipython",
    "version": 3
   },
   "file_extension": ".py",
   "mimetype": "text/x-python",
   "name": "python",
   "nbconvert_exporter": "python",
   "pygments_lexer": "ipython3",
   "version": "3.11.8"
  }
 },
 "nbformat": 4,
 "nbformat_minor": 4
}
