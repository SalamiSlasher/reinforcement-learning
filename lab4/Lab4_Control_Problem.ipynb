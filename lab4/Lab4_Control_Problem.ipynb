{
 "cells": [
  {
   "cell_type": "code",
   "metadata": {
    "id": "twBmPWIxDeal",
    "ExecuteTime": {
     "end_time": "2024-10-02T16:26:58.773833Z",
     "start_time": "2024-10-02T16:26:58.769037Z"
    }
   },
   "source": [
    "import numpy as np\n",
    "import matplotlib.pyplot as plt\n",
    "from PIL import Image\n",
    "import matplotlib.animation as animation\n",
    "from IPython.display import HTML\n",
    "from skimage import draw\n",
    "%matplotlib inline\n",
    "from IPython.display import Video\n",
    "#comment"
   ],
   "outputs": [],
   "execution_count": 30
  },
  {
   "cell_type": "code",
   "metadata": {
    "id": "UYGJsE-zDear",
    "ExecuteTime": {
     "end_time": "2024-10-02T16:27:00.813887Z",
     "start_time": "2024-10-02T16:27:00.809377Z"
    }
   },
   "source": [
    "def plot_images(img_list):\n",
    "    def init():\n",
    "        img.set_data(img_list[0])\n",
    "        return (img,)\n",
    "\n",
    "    def animate(i):\n",
    "        img.set_data(img_list[i])\n",
    "        return (img,)\n",
    "\n",
    "    plt.figure(figsize = (15,15))\n",
    "    fig = plt.figure()\n",
    "    ax = fig.gca()\n",
    "    img = ax.imshow(img_list[0])\n",
    "    anim = animation.FuncAnimation(fig, animate, init_func=init,\n",
    "                                 frames=len(img_list), interval=20, blit=True)\n",
    "    return anim\n"
   ],
   "outputs": [],
   "execution_count": 31
  },
  {
   "cell_type": "code",
   "metadata": {
    "id": "Gc_r3VOJDeat",
    "ExecuteTime": {
     "end_time": "2024-10-02T16:27:00.986708Z",
     "start_time": "2024-10-02T16:27:00.981209Z"
    }
   },
   "source": [
    "class World():\n",
    "    def __init__(self,rocket,target,width=768,height=640,stop_limit=100):\n",
    "        self.rocket = rocket\n",
    "        self.target = target\n",
    "        self.width = width\n",
    "        self.height = height\n",
    "        self.time = 0\n",
    "        self.stop_limit = stop_limit\n",
    "        self.worlds = [np.ones((width,height),dtype=np.uint8)]\n",
    "        self.distance = []\n",
    "\n",
    "\n",
    "    def gen_img(self,world):\n",
    "        buff = np.array((world,world,world))*255\n",
    "        return buff.reshape(self.width,self.height,3)\n",
    "\n",
    "    def run(self):\n",
    "        print(\"Run the world\")\n",
    "\n",
    "        while True:\n",
    "            self.time = self.time + 1\n",
    "            xt,yt = self.target.move(self.time)\n",
    "            xr,yr = self.rocket.move(self.time,self.target)\n",
    "            self.distance.append(np.linalg.norm(np.array([xt,yt])-np.array([xr,yr])))\n",
    "            rt, ct = draw.disk((int(xt), int(yt)), radius=10) #, shape=self.worlds[-1].shape)\n",
    "            self.worlds[-1][rt,ct]=0\n",
    "            rr, cr = draw.disk((int(xr), int(yr)), radius=10) #, shape=self.worlds[-1].shape)\n",
    "            self.worlds[-1][rr,cr]=0\n",
    "            self.worlds.append(np.ones((self.width,self.height),dtype=np.uint8))\n",
    "            if self.time>self.stop_limit:\n",
    "                print(len(self.worlds))\n",
    "                print(\"Stop the world\")\n",
    "                break\n",
    "            if self.distance[-1]<10:\n",
    "                break\n",
    "        return self.worlds\n"
   ],
   "outputs": [],
   "execution_count": 32
  },
  {
   "cell_type": "code",
   "metadata": {
    "ExecuteTime": {
     "end_time": "2024-10-02T16:27:01.305343Z",
     "start_time": "2024-10-02T16:27:01.300946Z"
    }
   },
   "source": [
    "class Target():\n",
    "    def __init__(self,r1,f1,r2,f2,x0,y0):\n",
    "        self.x0 = x0\n",
    "        self.y0 = y0\n",
    "        self.r1 = r1\n",
    "        self.f1 = f1\n",
    "        self.r2 = r2\n",
    "        self.f2 = f2\n",
    "        self.move(0)\n",
    "        \n",
    "        self.a = 2 * np.pi * self.f1\n",
    "        self.b = 2 * np.pi * self.f2\n",
    "\n",
    "    def move(self,time):\n",
    "        self.x = self.x0 + self.r1 * np.cos(time*2*np.pi*self.f1) + self.r2 * np.cos(time*2*np.pi*self.f2)\n",
    "        self.y = self.y0 + self.r1 * np.sin(time*2*np.pi*self.f1) + self.r2 * np.sin(time*2*np.pi*self.f2)\n",
    "        return (self.x,self.y)\n",
    "\n",
    "class RectRocket():\n",
    "    def __init__(self,x0,y0,v,angle):\n",
    "        self.x0 = x0\n",
    "        self.y0 = y0\n",
    "        self.x = x0\n",
    "        self.y = y0\n",
    "        self.v = v\n",
    "        self.angle = angle\n",
    "        \n",
    "        self.memory = []\n",
    "        self.memory_cnt = 10\n",
    "\n",
    "    def move(self, time: int, target: Target):\n",
    "        # Put your code here\n",
    "        # Calculate your angle and apply it to new (x,y) coords\n",
    "        # Steps:\n",
    "        # 1. Calculate alpha angle\n",
    "        # 2. Calcualte new_coordinates\n",
    "        \n",
    "        if self.memory_cnt > 0:\n",
    "            self.memory_cnt -= 1\n",
    "            self.memory.append(target)\n",
    "            self.y0 -= self.v\n",
    "            return self.x, self.y\n",
    "\n",
    "        return self.x, self.y  \n",
    "        "
   ],
   "outputs": [],
   "execution_count": 33
  },
  {
   "cell_type": "code",
   "metadata": {
    "colab": {
     "base_uri": "https://localhost:8080/",
     "height": 989
    },
    "id": "N6Fd5dmhDeay",
    "outputId": "24ac2174-30d9-4597-bc70-c89a804ffdce",
    "ExecuteTime": {
     "end_time": "2024-10-02T16:27:04.706982Z",
     "start_time": "2024-10-02T16:27:01.902391Z"
    }
   },
   "source": [
    "rocket = RectRocket(600,320,5,0)\n",
    "target = Target(250,0.01,5,0.01,400,320)\n",
    "world = World(rocket, target, stop_limit=100)\n",
    "\n",
    "animation = plot_images(world.run())\n",
    "#anim.save('animation.mp4', writer='ffmpeg')\n",
    "animation.save('animation.mp4', writer='ffmpeg')\n",
    "\n",
    "#HTML(plot_images(world.run()).to_html5_video())"
   ],
   "outputs": [
    {
     "name": "stdout",
     "output_type": "stream",
     "text": [
      "Run the world\n",
      "102\n",
      "Stop the world\n"
     ]
    },
    {
     "data": {
      "text/plain": [
       "<Figure size 1500x1500 with 0 Axes>"
      ]
     },
     "metadata": {},
     "output_type": "display_data"
    },
    {
     "data": {
      "text/plain": [
       "<Figure size 640x480 with 1 Axes>"
      ],
      "image/png": "[encoded data removed]"
     },
     "metadata": {},
     "output_type": "display_data"
    }
   ],
   "execution_count": 34
  },
  {
   "cell_type": "code",
   "metadata": {
    "colab": {
     "base_uri": "https://localhost:8080/",
     "height": 447
    },
    "id": "oUw5vNPODea2",
    "outputId": "37c915bb-8f7e-4560-8e71-9449ebd91f76",
    "ExecuteTime": {
     "end_time": "2024-10-02T16:26:16.172651Z",
     "start_time": "2024-10-02T16:26:16.012169Z"
    }
   },
   "source": [
    "plt.plot(world.distance)"
   ],
   "outputs": [
    {
     "data": {
      "text/plain": [
       "[<matplotlib.lines.Line2D at 0x11f471ed0>]"
      ]
     },
     "execution_count": 22,
     "metadata": {},
     "output_type": "execute_result"
    },
    {
     "data": {
      "text/plain": [
       "<Figure size 640x480 with 1 Axes>"
      ],
      "image/png": "[encoded data removed]"
     },
     "metadata": {},
     "output_type": "display_data"
    }
   ],
   "execution_count": 22
  },
  {
   "cell_type": "code",
   "execution_count": null,
   "metadata": {},
   "outputs": [],
   "source": []
  }
 ],
 "metadata": {
  "colab": {
   "provenance": []
  },
  "kernelspec": {
   "display_name": "Python 3 (ipykernel)",
   "language": "python",
   "name": "python3"
  },
  "language_info": {
   "codemirror_mode": {
    "name": "ipython",
    "version": 3
   },
   "file_extension": ".py",
   "mimetype": "text/x-python",
   "name": "python",
   "nbconvert_exporter": "python",
   "pygments_lexer": "ipython3",
   "version": "3.11.8"
  }
 },
 "nbformat": 4,
 "nbformat_minor": 4
}
