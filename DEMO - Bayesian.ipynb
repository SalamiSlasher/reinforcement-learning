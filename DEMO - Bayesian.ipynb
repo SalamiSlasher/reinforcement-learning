{
 "cells": [
  {
   "cell_type": "code",
   "id": "c8bb75a9",
   "metadata": {
    "scrolled": true,
    "ExecuteTime": {
     "end_time": "2024-09-26T14:34:40.313278Z",
     "start_time": "2024-09-26T14:34:40.298292Z"
    }
   },
   "source": [
    "from dataclasses import dataclass, field\n",
    "from typing import List, Dict, Tuple, Iterator\n",
    "from itertools import product\n",
    "from prettyprinter import pprint\n",
    "\n",
    "@dataclass(frozen=True)\n",
    "class Variable:\n",
    "    \"\"\"\n",
    "    Represents a random variable in a Bayesian network.\n",
    "\n",
    "    Attributes:\n",
    "        name (str): The name of the variable.\n",
    "        r (int): The number of possible values (states) the variable can take.\n",
    "    \"\"\"\n",
    "    name: str\n",
    "    r: int  # Number of possible values\n",
    "    \n",
    "    def __repr__(self):\n",
    "        return f\"{self.name}\"        \n",
    "\n",
    "@dataclass(frozen=True)\n",
    "class Assignment:\n",
    "    \"\"\"\n",
    "    Represents an assignment of values to variables.\n",
    "\n",
    "    Attributes:\n",
    "        values (Dict[str, int]): A mapping from variable names to their assigned values.\n",
    "    \"\"\"\n",
    "    values: Dict[str, int]\n",
    "\n",
    "    def __getitem__(self, var_name: str) -> int:\n",
    "        return self.values[var_name]\n",
    "\n",
    "    def __repr__(self):\n",
    "        return f\"Assignment({self.values})\"\n",
    "    \n",
    "    \n",
    "    def __hash__(self):\n",
    "        # Use frozenset of items to make it hashable\n",
    "        return hash(frozenset(self.values.items()))\n",
    "\n",
    "    def __eq__(self, other):\n",
    "        if not isinstance(other, Assignment):\n",
    "            return NotImplemented\n",
    "        return self.values == other.values\n",
    "\n",
    "@dataclass\n",
    "class Factor:\n",
    "    \"\"\"\n",
    "    Represents a factor in the Bayesian network.\n",
    "\n",
    "    Attributes:\n",
    "        variables (List[Variable]): Variables involved in the factor.\n",
    "        table (Dict[Assignment, float]): A mapping from variable assignments to probabilities.\n",
    "    \"\"\"\n",
    "    variables: List[Variable]\n",
    "    table: Dict[Assignment, float] = field(default_factory=dict)\n",
    "\n",
    "    def __post_init__(self):\n",
    "        self.var_names = [var.name for var in self.variables]\n",
    "\n",
    "    def assignments(self) -> List[Assignment]:\n",
    "        \"\"\"\n",
    "        Generates all possible assignments for the variables in this factor.\n",
    "\n",
    "        Returns:\n",
    "            List[Assignment]: A list of all possible assignments.\n",
    "        \"\"\"\n",
    "        ranges = [range(1, var.r + 1) for var in self.variables]\n",
    "        assignments = []\n",
    "        for values in product(*ranges):\n",
    "            assignment = Assignment(values=dict(zip(self.var_names, values)))\n",
    "            assignments.append(assignment)\n",
    "        return assignments\n",
    "\n",
    "    def normalize(self):\n",
    "        \"\"\"\n",
    "        Normalizes the factor so that the sum of probabilities is 1.\n",
    "        \"\"\"\n",
    "        total = sum(self.table.values())\n",
    "        if total != 0:\n",
    "            for assignment in self.table:\n",
    "                self.table[assignment] /= total\n",
    "\n",
    "    def marginalize(self, var_to_marginalize: Variable) -> 'Factor':\n",
    "        \"\"\"\n",
    "        Marginalizes out a variable from the factor.\n",
    "\n",
    "        Args:\n",
    "            var_to_marginalize (Variable): The variable to be marginalized out.\n",
    "\n",
    "        Returns:\n",
    "            Factor: A new factor with the variable marginalized out.\n",
    "        \"\"\"\n",
    "        new_vars = [var for var in self.variables if var != var_to_marginalize]\n",
    "        new_table = {}\n",
    "        for assignment in self.assignments():\n",
    "            # Remove the variable to marginalize from the assignment\n",
    "            new_assignment_values = {k: v for k, v in assignment.values.items() if k != var_to_marginalize.name}\n",
    "            new_assignment = Assignment(new_assignment_values)\n",
    "            prob = self.table.get(assignment, 0.0)\n",
    "            # Sum probabilities for the same assignment after removing the variable\n",
    "            new_table[new_assignment] = new_table.get(new_assignment, 0.0) + prob\n",
    "        return Factor(new_vars, new_table)\n",
    "\n",
    "    def __mul__(self, other: 'Factor') -> 'Factor':\n",
    "        \"\"\"\n",
    "        Multiplies this factor with another factor.\n",
    "\n",
    "        Args:\n",
    "            other (Factor): The other factor to multiply with.\n",
    "\n",
    "        Returns:\n",
    "            Factor: A new factor resulting from the multiplication.\n",
    "        \"\"\"\n",
    "        # Determine the set of variables in the new factor\n",
    "        new_vars_dict = {var.name: var for var in self.variables + other.variables}\n",
    "        new_vars = list(new_vars_dict.values())\n",
    "        new_var_names = [var.name for var in new_vars]\n",
    "\n",
    "        # Prepare the table for the new factor\n",
    "        new_table = {}\n",
    "\n",
    "        # Generate all possible assignments for new_vars\n",
    "        ranges = [range(1, var.r + 1) for var in new_vars]\n",
    "        for values in product(*ranges):\n",
    "            assignment_values = dict(zip(new_var_names, values))\n",
    "            assignment = Assignment(assignment_values)\n",
    "\n",
    "            # Get the values from self and other for this assignment\n",
    "            self_assignment_values = {k: v for k, v in assignment_values.items() if k in [var.name for var in self.variables]}\n",
    "            self_assignment = Assignment(self_assignment_values)\n",
    "            self_value = self.table.get(self_assignment, 0.0)\n",
    "\n",
    "            other_assignment_values = {k: v for k, v in assignment_values.items() if k in [var.name for var in other.variables]}\n",
    "            other_assignment = Assignment(other_assignment_values)\n",
    "            other_value = other.table.get(other_assignment, 0.0)\n",
    "\n",
    "            # Multiply the values\n",
    "            new_table[assignment] = self_value * other_value\n",
    "\n",
    "        return Factor(new_vars, new_table)\n",
    "\n",
    "    def __repr__(self):\n",
    "        table_str = \"\\n\".join([str(item) for item in self.table.items()])\n",
    "        return f\"Factor(variables={self.var_names}, table=\\n{table_str})\"\n",
    "\n",
    "# Example usage:\n",
    "\n",
    "# Define variables\n",
    "x = Variable(\"x\", 2)\n",
    "y = Variable(\"y\", 2)\n",
    "z = Variable(\"z\", 2)\n",
    "\n",
    "\n",
    "# Define a factor table\n",
    "ft = {\n",
    "    Assignment(values={'x':1,'y':1,'z':1}):64, \n",
    "    Assignment(values={'x':1,'y':1,'z':2}):32,\n",
    "    Assignment(values={'x':1,'y':2,'z':1}):16, \n",
    "    Assignment(values={'x':1,'y':2,'z':2}):8,\n",
    "    Assignment(values={'x':2,'y':1,'z':1}):4, \n",
    "    Assignment(values={'x':2,'y':1,'z':2}):2,\n",
    "    Assignment(values={'x':2,'y':2,'z':1}):1, \n",
    "    Assignment(values={'x':2,'y':2,'z':2}):1,\n",
    "}\n",
    "\n",
    "# Create a factor\n",
    "phi = Factor(variables=[x, y, z], table=ft)\n",
    "\n",
    "print(f'phi:\\n{phi}')\n",
    "\n",
    "\n",
    "print('-' * 100)\n",
    "\n",
    "\n",
    "# Normalize the factor\n",
    "phi.normalize()\n",
    "pprint(phi, indent=2)\n",
    "\n",
    "# Marginalize out variable 'z'\n",
    "phi_marginalized = phi.marginalize(z)\n",
    "\n",
    "pprint(phi_marginalized, indent=2)\n",
    "# Multiply two factors (assuming another factor 'psi' is defined)\n",
    "\n",
    "psi = Factor(variables=[x, y, z], table = {\n",
    "    Assignment(values={'x':1,'y':1,'z':1}):-1, \n",
    "    Assignment(values={'x':1,'y':1,'z':2}):-1,\n",
    "    Assignment(values={'x':1,'y':2,'z':1}):-1, \n",
    "    Assignment(values={'x':1,'y':2,'z':2}):10,\n",
    "    Assignment(values={'x':2,'y':1,'z':1}):-1, \n",
    "    Assignment(values={'x':2,'y':1,'z':2}):-1,\n",
    "    Assignment(values={'x':2,'y':2,'z':1}):-1, \n",
    "    Assignment(values={'x':2,'y':2,'z':2}):-1,\n",
    "})\n",
    "\n",
    "\n",
    "phi_psi = phi * psi\n",
    "\n",
    "pprint(phi_psi)\n"
   ],
   "outputs": [
    {
     "name": "stdout",
     "output_type": "stream",
     "text": [
      "phi:\n",
      "Factor(variables=['x', 'y', 'z'], table=\n",
      "(Assignment({'x': 1, 'y': 1, 'z': 1}), 64)\n",
      "(Assignment({'x': 1, 'y': 1, 'z': 2}), 32)\n",
      "(Assignment({'x': 1, 'y': 2, 'z': 1}), 16)\n",
      "(Assignment({'x': 1, 'y': 2, 'z': 2}), 8)\n",
      "(Assignment({'x': 2, 'y': 1, 'z': 1}), 4)\n",
      "(Assignment({'x': 2, 'y': 1, 'z': 2}), 2)\n",
      "(Assignment({'x': 2, 'y': 2, 'z': 1}), 1)\n",
      "(Assignment({'x': 2, 'y': 2, 'z': 2}), 1))\n",
      "----------------------------------------------------------------------------------------------------\n",
      "Factor(variables=['x', 'y', 'z'], table=\n",
      "(Assignment({'x': 1, 'y': 1, 'z': 1}), 0.5)\n",
      "(Assignment({'x': 1, 'y': 1, 'z': 2}), 0.25)\n",
      "(Assignment({'x': 1, 'y': 2, 'z': 1}), 0.125)\n",
      "(Assignment({'x': 1, 'y': 2, 'z': 2}), 0.0625)\n",
      "(Assignment({'x': 2, 'y': 1, 'z': 1}), 0.03125)\n",
      "(Assignment({'x': 2, 'y': 1, 'z': 2}), 0.015625)\n",
      "(Assignment({'x': 2, 'y': 2, 'z': 1}), 0.0078125)\n",
      "(Assignment({'x': 2, 'y': 2, 'z': 2}), 0.0078125))\n",
      "Factor(variables=['x', 'y'], table=\n",
      "(Assignment({'x': 1, 'y': 1}), 0.75)\n",
      "(Assignment({'x': 1, 'y': 2}), 0.1875)\n",
      "(Assignment({'x': 2, 'y': 1}), 0.046875)\n",
      "(Assignment({'x': 2, 'y': 2}), 0.015625))\n",
      "Factor(variables=['x', 'y', 'z'], table=\n",
      "(Assignment({'x': 1, 'y': 1, 'z': 1}), -0.5)\n",
      "(Assignment({'x': 1, 'y': 1, 'z': 2}), -0.25)\n",
      "(Assignment({'x': 1, 'y': 2, 'z': 1}), -0.125)\n",
      "(Assignment({'x': 1, 'y': 2, 'z': 2}), 0.625)\n",
      "(Assignment({'x': 2, 'y': 1, 'z': 1}), -0.03125)\n",
      "(Assignment({'x': 2, 'y': 1, 'z': 2}), -0.015625)\n",
      "(Assignment({'x': 2, 'y': 2, 'z': 1}), -0.0078125)\n",
      "(Assignment({'x': 2, 'y': 2, 'z': 2}), -0.0078125))\n"
     ]
    }
   ],
   "execution_count": 7
  },
  {
   "metadata": {},
   "cell_type": "markdown",
   "source": [
    "# Your goal is to:Define the variables and their possible values.\n",
    "1) Create the conditional probability tables (CPTs) for each variable.\n",
    "2) Construct the Bayesian Network using the provided classes.\n",
    "3) Given evidence (e.g., a positive test result), compute the posterior probability of the patient having the disease.\n",
    "4) Analyze the results and discuss the implications in decision-making."
   ],
   "id": "bcd5994c3707044e"
  },
  {
   "metadata": {},
   "cell_type": "markdown",
   "source": "# #2 Define Variables\n",
   "id": "400999a2b698b444"
  },
  {
   "metadata": {
    "ExecuteTime": {
     "end_time": "2024-09-26T14:28:43.913156Z",
     "start_time": "2024-09-26T14:28:43.910729Z"
    }
   },
   "cell_type": "code",
   "source": [
    "D = Variable(\"D\", 2)  # Disease: 1 (Yes), 2 (No)\n",
    "T = Variable(\"T\", 2) # Test Result: 1 (Positive), 2 (Negative) \n",
    "S = Variable(\"S\", 2) # Symptom: 1 (Present), 2 (Absent)"
   ],
   "id": "8f12d964ce8a1c2e",
   "outputs": [],
   "execution_count": 4
  },
  {
   "metadata": {},
   "cell_type": "markdown",
   "source": [
    "# 3. Define Probability Tables\n",
    "Create the conditional probability tables for:\n",
    "\n",
    "P(D): Prior probability of the disease.\n",
    "\n",
    "P(T | D): Probability of the test result given the disease.\n",
    "\n",
    "P(S | D): Probability of the symptom given the disease.\n",
    "\n",
    "Assume the following probabilities:\n",
    "\n",
    "P(D):\n",
    "\n",
    "P(D=1) = 0.01 (1% prevalence)\n",
    "\n",
    "P(D=2) = 0.99\n",
    "\n",
    "\n",
    "P(T | D):\n",
    "\n",
    "If D=1 (Disease present):\n",
    "\n",
    "P(T=1 | D=1) = 0.95 (True Positive Rate)\n",
    "\n",
    "P(T=2 | D=1) = 0.05\n",
    "\n",
    "If D=2 (Disease absent):\n",
    "\n",
    "P(T=1 | D=2) = 0.10 (False Positive Rate)\n",
    "\n",
    "P(T=2 | D=2) = 0.90\n",
    "\n",
    "P(S | D):\n",
    "\n",
    "If D=1:\n",
    "\n",
    "P(S=1 | D=1) = 0.80\n",
    "\n",
    "P(S=2 | D=1) = 0.20\n",
    "\n",
    "If D=2:\n",
    "\n",
    "P(S=1 | D=2) = 0.30\n",
    "\n",
    "P(S=2 | D=2) = 0.70"
   ],
   "id": "60889fe4c3d4c9b3"
  },
  {
   "metadata": {
    "ExecuteTime": {
     "end_time": "2024-09-26T14:51:57.726250Z",
     "start_time": "2024-09-26T14:51:57.719979Z"
    }
   },
   "cell_type": "code",
   "source": [
    "var = {\n",
    "    'P(D)': {\n",
    "        Assignment(values=dict(D=1)): 0.01,\n",
    "        Assignment(values=dict(D=2)): 0.99,\n",
    "    },\n",
    "    \n",
    "    'P(T|D)': {\n",
    "        Assignment(values=dict(T=1, D=1)): 0.95,  # TP: True Positive rate\n",
    "        Assignment(values=dict(T=2, D=1)): 0.05,  # FT: False Negative rate\n",
    "        \n",
    "        Assignment(values=dict(T=1, D=2)): 0.1,   # FN: False Positive rate\n",
    "        Assignment(values=dict(T=2, D=2)): 0.9,   # TN: True Negative rate\n",
    "    },\n",
    "    \n",
    "    'P(S|D)': {\n",
    "        Assignment(values=dict(S=1, D=1)): 0.8,\n",
    "        Assignment(values=dict(S=2, D=1)): 0.2,\n",
    "        Assignment(values=dict(S=1, D=2)): 0.3,\n",
    "        Assignment(values=dict(S=2, D=2)): 0.7,\n",
    "    }\n",
    "}\n",
    "\n",
    "for k, v in var.items():\n",
    "    print(f'{k}:')\n",
    "    display(v)"
   ],
   "id": "629ba4ea620e46b7",
   "outputs": [
    {
     "name": "stdout",
     "output_type": "stream",
     "text": [
      "P(D):\n"
     ]
    },
    {
     "data": {
      "text/plain": [
       "{Assignment({'D': 1}): 0.01, Assignment({'D': 2}): 0.99}"
      ]
     },
     "metadata": {},
     "output_type": "display_data"
    },
    {
     "name": "stdout",
     "output_type": "stream",
     "text": [
      "P(T|D):\n"
     ]
    },
    {
     "data": {
      "text/plain": [
       "{Assignment({'T': 1, 'D': 1}): 0.95,\n",
       " Assignment({'T': 2, 'D': 1}): 0.05,\n",
       " Assignment({'T': 1, 'D': 2}): 0.1,\n",
       " Assignment({'T': 2, 'D': 2}): 0.9}"
      ]
     },
     "metadata": {},
     "output_type": "display_data"
    },
    {
     "name": "stdout",
     "output_type": "stream",
     "text": [
      "P(S|D):\n"
     ]
    },
    {
     "data": {
      "text/plain": [
       "{Assignment({'S': 1, 'D': 1}): 0.8,\n",
       " Assignment({'S': 2, 'D': 1}): 0.2,\n",
       " Assignment({'S': 1, 'D': 2}): 0.3,\n",
       " Assignment({'S': 2, 'D': 2}): 0.7}"
      ]
     },
     "metadata": {},
     "output_type": "display_data"
    }
   ],
   "execution_count": 39
  },
  {
   "metadata": {},
   "cell_type": "markdown",
   "source": [
    "# 4. Construct the Bayesian Network\n",
    "The Bayesian Network consists of the defined factors. No explicit graph structure is needed for this task since we're focusing on computations."
   ],
   "id": "15d272bdd0d430ea"
  },
  {
   "metadata": {
    "ExecuteTime": {
     "end_time": "2024-09-26T14:55:36.377884Z",
     "start_time": "2024-09-26T14:55:36.372388Z"
    }
   },
   "cell_type": "code",
   "source": [
    "factor_d = Factor(variables=[D], table=var['P(D)'])\n",
    "factor_t_d = Factor(variables=[D, T], table=var['P(T|D)'])\n",
    "factor_s_d = Factor(variables=[D, S], table=var['P(S|D)'])\n",
    "\n",
    "display(factor_d)\n",
    "display(factor_t_d)\n",
    "display(factor_s_d)"
   ],
   "id": "8eaed9d25cf9c895",
   "outputs": [
    {
     "data": {
      "text/plain": [
       "Factor(variables=['D'], table=\n",
       "(Assignment({'D': 1}), 0.01)\n",
       "(Assignment({'D': 2}), 0.99))"
      ]
     },
     "metadata": {},
     "output_type": "display_data"
    },
    {
     "data": {
      "text/plain": [
       "Factor(variables=['D', 'T'], table=\n",
       "(Assignment({'T': 1, 'D': 1}), 0.95)\n",
       "(Assignment({'T': 2, 'D': 1}), 0.05)\n",
       "(Assignment({'T': 1, 'D': 2}), 0.1)\n",
       "(Assignment({'T': 2, 'D': 2}), 0.9))"
      ]
     },
     "metadata": {},
     "output_type": "display_data"
    },
    {
     "data": {
      "text/plain": [
       "Factor(variables=['D', 'S'], table=\n",
       "(Assignment({'S': 1, 'D': 1}), 0.8)\n",
       "(Assignment({'S': 2, 'D': 1}), 0.2)\n",
       "(Assignment({'S': 1, 'D': 2}), 0.3)\n",
       "(Assignment({'S': 2, 'D': 2}), 0.7))"
      ]
     },
     "metadata": {},
     "output_type": "display_data"
    }
   ],
   "execution_count": 41
  },
  {
   "metadata": {},
   "cell_type": "markdown",
   "source": "# 5. Perform Inference\n",
   "id": "5a8e0d48cb0f5888"
  },
  {
   "metadata": {
    "ExecuteTime": {
     "end_time": "2024-09-26T15:00:17.500733Z",
     "start_time": "2024-09-26T15:00:17.493505Z"
    }
   },
   "cell_type": "code",
   "source": [
    "var['P(D|T)'] = factor_t_d * factor_d\n",
    "\n",
    "# P(D | T=1)\n",
    "table_f_d_t_positive = {\n",
    "    assignment: prob for assignment, prob in var['P(D|T)'].table.items() if assignment.values[\"T\"] == 1\n",
    "}\n",
    "\n",
    "display(table_f_d_t_positive)\n",
    "\n",
    "f_d_t_positive = Factor(variables=[D], table=table_f_d_t_positive)\n",
    "print('-' * 100)\n",
    "display(f_d_t_positive)\n",
    "print('-' * 100)\n",
    "f_d_t_positive.normalize()\n",
    "display(f_d_t_positive)"
   ],
   "id": "5dcd40cc251f5def",
   "outputs": [
    {
     "data": {
      "text/plain": [
       "{Assignment({'D': 1, 'T': 1}): 0.0095, Assignment({'D': 2, 'T': 1}): 0.099}"
      ]
     },
     "metadata": {},
     "output_type": "display_data"
    },
    {
     "name": "stdout",
     "output_type": "stream",
     "text": [
      "----------------------------------------------------------------------------------------------------\n"
     ]
    },
    {
     "data": {
      "text/plain": [
       "Factor(variables=['D'], table=\n",
       "(Assignment({'D': 1, 'T': 1}), 0.0095)\n",
       "(Assignment({'D': 2, 'T': 1}), 0.099))"
      ]
     },
     "metadata": {},
     "output_type": "display_data"
    },
    {
     "name": "stdout",
     "output_type": "stream",
     "text": [
      "----------------------------------------------------------------------------------------------------\n"
     ]
    },
    {
     "data": {
      "text/plain": [
       "Factor(variables=['D'], table=\n",
       "(Assignment({'D': 1, 'T': 1}), 0.08755760368663594)\n",
       "(Assignment({'D': 2, 'T': 1}), 0.9124423963133641))"
      ]
     },
     "metadata": {},
     "output_type": "display_data"
    }
   ],
   "execution_count": 44
  },
  {
   "metadata": {},
   "cell_type": "markdown",
   "source": [
    "# 6. Analyze the Results\n",
    "\n",
    "Analysis Questions\n",
    "\n",
    "1.Interpretation: What does the posterior probability tell us about the patient's condition after observing a positive test result?\n",
    "\n",
    "OK, Let's calculate it:\n",
    "P(A|B) where A <-> \"I'm ill\" and B <-> 'test is positive'. We know that P(B = 1|A = 1) =  0.95, P(A) = 0.05, so P(B) = P(A) \\cdot P(B | \"ill\" + (1 - P(A)) \\cdot P(B | 'not ill') = 0.05 \\cdot 0.95 + 0.95 \\cdot 0.5 = 0.095. So, P(A|B) = P(A) \\cdot \\fraq{P(B|A), P(B)} = 0.05 \\cdot 0.95 / 0.095 = 0.5 \n",
    "\n",
    "2.Impact of Additional Evidence: How does the presence of the symptom (S=1) change the posterior probability compared to only having the test result?\n",
    "\n",
    "3.Decision Making: Based on the computed probabilities, what would you recommend about further medical action?\n",
    "\n",
    "4.Relation to Decision Making Theory: How does this exercise illustrate critical concepts in Decision Making Theory?\n",
    "\n",
    "5.Reinforcement Learning: Describe the possible ideas of usage such techniques in RL\n"
   ],
   "id": "73334aed0194bfad"
  },
  {
   "metadata": {},
   "cell_type": "markdown",
   "source": "\n",
   "id": "65b5a3f08ffb2b02"
  }
 ],
 "metadata": {
  "kernelspec": {
   "display_name": "Python 3 (ipykernel)",
   "language": "python",
   "name": "python3"
  },
  "language_info": {
   "codemirror_mode": {
    "name": "ipython",
    "version": 3
   },
   "file_extension": ".py",
   "mimetype": "text/x-python",
   "name": "python",
   "nbconvert_exporter": "python",
   "pygments_lexer": "ipython3",
   "version": "3.10.0"
  }
 },
 "nbformat": 4,
 "nbformat_minor": 5
}
